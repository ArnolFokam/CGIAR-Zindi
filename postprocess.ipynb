{
 "cells": [
  {
   "cell_type": "code",
   "execution_count": 3,
   "metadata": {},
   "outputs": [],
   "source": [
    "import pandas as pd\n",
    "import math\n",
    "\n",
    "# Read the CSV file into a DataFrame\n",
    "df = pd.read_csv('solutions/v5/#2/submission.csv')\n",
    "\n",
    "# Define a function to bound a value between 0 and 100\n",
    "def bound_and_round(value):\n",
    "    value = max(0, min(100, value))  # Bound between 0 and 100\n",
    "    return math.floor(value)  # Round down to the nearest integer\n",
    "\n",
    "# Apply the function to the 'extent' column\n",
    "df['extent'] = df['extent'].apply(bound_and_round)\n",
    "\n",
    "# Save the modified DataFrame to a new CSV file\n",
    "df.to_csv('solutions/v5/#2/submission_round_bound.csv', index=False)"
   ]
  },
  {
   "cell_type": "code",
   "execution_count": null,
   "metadata": {},
   "outputs": [],
   "source": []
  }
 ],
 "metadata": {
  "kernelspec": {
   "display_name": "cgiar",
   "language": "python",
   "name": "python3"
  },
  "language_info": {
   "codemirror_mode": {
    "name": "ipython",
    "version": 3
   },
   "file_extension": ".py",
   "mimetype": "text/x-python",
   "name": "python",
   "nbconvert_exporter": "python",
   "pygments_lexer": "ipython3",
   "version": "3.8.18"
  },
  "orig_nbformat": 4
 },
 "nbformat": 4,
 "nbformat_minor": 2
}
